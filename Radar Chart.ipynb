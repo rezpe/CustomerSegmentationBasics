{
 "cells": [
  {
   "cell_type": "code",
   "execution_count": 3,
   "metadata": {},
   "outputs": [
    {
     "name": "stdout",
     "output_type": "stream",
     "text": [
      "Populating the interactive namespace from numpy and matplotlib\n"
     ]
    }
   ],
   "source": [
    "%pylab inline"
   ]
  },
  {
   "cell_type": "code",
   "execution_count": 18,
   "metadata": {
    "scrolled": false
   },
   "outputs": [
    {
     "data": {
      "text/html": [
       "<script>requirejs.config({paths: { 'plotly': ['https://cdn.plot.ly/plotly-latest.min']},});if(!window.Plotly) {{require(['plotly'],function(plotly) {window.Plotly=plotly;});}}</script>"
      ],
      "text/vnd.plotly.v1+html": [
       "<script>requirejs.config({paths: { 'plotly': ['https://cdn.plot.ly/plotly-latest.min']},});if(!window.Plotly) {{require(['plotly'],function(plotly) {window.Plotly=plotly;});}}</script>"
      ]
     },
     "metadata": {},
     "output_type": "display_data"
    },
    {
     "data": {
      "application/vnd.plotly.v1+json": {
       "data": [
        {
         "fill": "toself",
         "r": [
          -0.13875261,
          2.88416001,
          9.08513104
         ],
         "theta": [
          "recency",
          "frequency",
          "monetary_value"
         ],
         "type": "scatterpolar"
        }
       ],
       "layout": {}
      },
      "text/html": [
       "<div id=\"82004a4f-380b-47a7-aad9-9c271de9f241\" style=\"height: 525px; width: 100%;\" class=\"plotly-graph-div\"></div><script type=\"text/javascript\">require([\"plotly\"], function(Plotly) { window.PLOTLYENV=window.PLOTLYENV || {};window.PLOTLYENV.BASE_URL=\"https://plot.ly\";Plotly.newPlot(\"82004a4f-380b-47a7-aad9-9c271de9f241\", [{\"type\": \"scatterpolar\", \"r\": [-0.13875261, 2.88416001, 9.08513104], \"theta\": [\"recency\", \"frequency\", \"monetary_value\"], \"fill\": \"toself\"}], {}, {\"showLink\": true, \"linkText\": \"Export to plot.ly\"})});</script>"
      ],
      "text/vnd.plotly.v1+html": [
       "<div id=\"82004a4f-380b-47a7-aad9-9c271de9f241\" style=\"height: 525px; width: 100%;\" class=\"plotly-graph-div\"></div><script type=\"text/javascript\">require([\"plotly\"], function(Plotly) { window.PLOTLYENV=window.PLOTLYENV || {};window.PLOTLYENV.BASE_URL=\"https://plot.ly\";Plotly.newPlot(\"82004a4f-380b-47a7-aad9-9c271de9f241\", [{\"type\": \"scatterpolar\", \"r\": [-0.13875261, 2.88416001, 9.08513104], \"theta\": [\"recency\", \"frequency\", \"monetary_value\"], \"fill\": \"toself\"}], {}, {\"showLink\": true, \"linkText\": \"Export to plot.ly\"})});</script>"
      ]
     },
     "metadata": {},
     "output_type": "display_data"
    },
    {
     "data": {
      "application/vnd.plotly.v1+json": {
       "data": [
        {
         "fill": "toself",
         "r": [
          0.86124739,
          -0.24809979,
          -0.22141887
         ],
         "theta": [
          "recency",
          "frequency",
          "monetary_value"
         ],
         "type": "scatterpolar"
        }
       ],
       "layout": {}
      },
      "text/html": [
       "<div id=\"88daaf5a-c9f6-4adf-a529-77276574fa44\" style=\"height: 525px; width: 100%;\" class=\"plotly-graph-div\"></div><script type=\"text/javascript\">require([\"plotly\"], function(Plotly) { window.PLOTLYENV=window.PLOTLYENV || {};window.PLOTLYENV.BASE_URL=\"https://plot.ly\";Plotly.newPlot(\"88daaf5a-c9f6-4adf-a529-77276574fa44\", [{\"type\": \"scatterpolar\", \"r\": [0.86124739, -0.24809979, -0.22141887], \"theta\": [\"recency\", \"frequency\", \"monetary_value\"], \"fill\": \"toself\"}], {}, {\"showLink\": true, \"linkText\": \"Export to plot.ly\"})});</script>"
      ],
      "text/vnd.plotly.v1+html": [
       "<div id=\"88daaf5a-c9f6-4adf-a529-77276574fa44\" style=\"height: 525px; width: 100%;\" class=\"plotly-graph-div\"></div><script type=\"text/javascript\">require([\"plotly\"], function(Plotly) { window.PLOTLYENV=window.PLOTLYENV || {};window.PLOTLYENV.BASE_URL=\"https://plot.ly\";Plotly.newPlot(\"88daaf5a-c9f6-4adf-a529-77276574fa44\", [{\"type\": \"scatterpolar\", \"r\": [0.86124739, -0.24809979, -0.22141887], \"theta\": [\"recency\", \"frequency\", \"monetary_value\"], \"fill\": \"toself\"}], {}, {\"showLink\": true, \"linkText\": \"Export to plot.ly\"})});</script>"
      ]
     },
     "metadata": {},
     "output_type": "display_data"
    },
    {
     "data": {
      "application/vnd.plotly.v1+json": {
       "data": [
        {
         "fill": "toself",
         "r": [
          0,
          0,
          0
         ],
         "theta": [
          "recency",
          "frequency",
          "monetary_value"
         ],
         "type": "scatterpolar"
        }
       ],
       "layout": {}
      },
      "text/html": [
       "<div id=\"f0092c98-7648-4bec-8e1b-da88c05a01c5\" style=\"height: 525px; width: 100%;\" class=\"plotly-graph-div\"></div><script type=\"text/javascript\">require([\"plotly\"], function(Plotly) { window.PLOTLYENV=window.PLOTLYENV || {};window.PLOTLYENV.BASE_URL=\"https://plot.ly\";Plotly.newPlot(\"f0092c98-7648-4bec-8e1b-da88c05a01c5\", [{\"type\": \"scatterpolar\", \"r\": [0.0, 0.0, 0.0], \"theta\": [\"recency\", \"frequency\", \"monetary_value\"], \"fill\": \"toself\"}], {}, {\"showLink\": true, \"linkText\": \"Export to plot.ly\"})});</script>"
      ],
      "text/vnd.plotly.v1+html": [
       "<div id=\"f0092c98-7648-4bec-8e1b-da88c05a01c5\" style=\"height: 525px; width: 100%;\" class=\"plotly-graph-div\"></div><script type=\"text/javascript\">require([\"plotly\"], function(Plotly) { window.PLOTLYENV=window.PLOTLYENV || {};window.PLOTLYENV.BASE_URL=\"https://plot.ly\";Plotly.newPlot(\"f0092c98-7648-4bec-8e1b-da88c05a01c5\", [{\"type\": \"scatterpolar\", \"r\": [0.0, 0.0, 0.0], \"theta\": [\"recency\", \"frequency\", \"monetary_value\"], \"fill\": \"toself\"}], {}, {\"showLink\": true, \"linkText\": \"Export to plot.ly\"})});</script>"
      ]
     },
     "metadata": {},
     "output_type": "display_data"
    },
    {
     "data": {
      "application/vnd.plotly.v1+json": {
       "data": [
        {
         "fill": "toself",
         "r": [
          -0.69966177,
          0.75190021,
          0.77858113
         ],
         "theta": [
          "recency",
          "frequency",
          "monetary_value"
         ],
         "type": "scatterpolar"
        }
       ],
       "layout": {}
      },
      "text/html": [
       "<div id=\"fd9b4fb0-b52a-448b-b287-b6ddb64b9295\" style=\"height: 525px; width: 100%;\" class=\"plotly-graph-div\"></div><script type=\"text/javascript\">require([\"plotly\"], function(Plotly) { window.PLOTLYENV=window.PLOTLYENV || {};window.PLOTLYENV.BASE_URL=\"https://plot.ly\";Plotly.newPlot(\"fd9b4fb0-b52a-448b-b287-b6ddb64b9295\", [{\"type\": \"scatterpolar\", \"r\": [-0.69966177, 0.75190021, 0.77858113], \"theta\": [\"recency\", \"frequency\", \"monetary_value\"], \"fill\": \"toself\"}], {}, {\"showLink\": true, \"linkText\": \"Export to plot.ly\"})});</script>"
      ],
      "text/vnd.plotly.v1+html": [
       "<div id=\"fd9b4fb0-b52a-448b-b287-b6ddb64b9295\" style=\"height: 525px; width: 100%;\" class=\"plotly-graph-div\"></div><script type=\"text/javascript\">require([\"plotly\"], function(Plotly) { window.PLOTLYENV=window.PLOTLYENV || {};window.PLOTLYENV.BASE_URL=\"https://plot.ly\";Plotly.newPlot(\"fd9b4fb0-b52a-448b-b287-b6ddb64b9295\", [{\"type\": \"scatterpolar\", \"r\": [-0.69966177, 0.75190021, 0.77858113], \"theta\": [\"recency\", \"frequency\", \"monetary_value\"], \"fill\": \"toself\"}], {}, {\"showLink\": true, \"linkText\": \"Export to plot.ly\"})});</script>"
      ]
     },
     "metadata": {},
     "output_type": "display_data"
    },
    {
     "data": {
      "application/vnd.plotly.v1+json": {
       "data": [
        {
         "fill": "toself",
         "r": [
          0.92407107,
          -0.24809979,
          -0.41824275
         ],
         "theta": [
          "recency",
          "frequency",
          "monetary_value"
         ],
         "type": "scatterpolar"
        }
       ],
       "layout": {}
      },
      "text/html": [
       "<div id=\"9dbf8428-e712-46b0-9438-909291f367f3\" style=\"height: 525px; width: 100%;\" class=\"plotly-graph-div\"></div><script type=\"text/javascript\">require([\"plotly\"], function(Plotly) { window.PLOTLYENV=window.PLOTLYENV || {};window.PLOTLYENV.BASE_URL=\"https://plot.ly\";Plotly.newPlot(\"9dbf8428-e712-46b0-9438-909291f367f3\", [{\"type\": \"scatterpolar\", \"r\": [0.92407107, -0.24809979, -0.41824275], \"theta\": [\"recency\", \"frequency\", \"monetary_value\"], \"fill\": \"toself\"}], {}, {\"showLink\": true, \"linkText\": \"Export to plot.ly\"})});</script>"
      ],
      "text/vnd.plotly.v1+html": [
       "<div id=\"9dbf8428-e712-46b0-9438-909291f367f3\" style=\"height: 525px; width: 100%;\" class=\"plotly-graph-div\"></div><script type=\"text/javascript\">require([\"plotly\"], function(Plotly) { window.PLOTLYENV=window.PLOTLYENV || {};window.PLOTLYENV.BASE_URL=\"https://plot.ly\";Plotly.newPlot(\"9dbf8428-e712-46b0-9438-909291f367f3\", [{\"type\": \"scatterpolar\", \"r\": [0.92407107, -0.24809979, -0.41824275], \"theta\": [\"recency\", \"frequency\", \"monetary_value\"], \"fill\": \"toself\"}], {}, {\"showLink\": true, \"linkText\": \"Export to plot.ly\"})});</script>"
      ]
     },
     "metadata": {},
     "output_type": "display_data"
    }
   ],
   "source": [
    "import plotly.offline as py\n",
    "import plotly.graph_objs as go\n",
    "py.init_notebook_mode(connected=True)\n",
    "\n",
    "values = np.array([[-0.13875261,  2.88416001,  9.08513104],\n",
    "       [ 0.86124739, -0.24809979, -0.22141887],\n",
    "       [ 0.        ,  0.        ,  0.        ],\n",
    "       [-0.69966177,  0.75190021,  0.77858113],\n",
    "       [ 0.92407107, -0.24809979, -0.41824275]])\n",
    "\n",
    "for value in values:\n",
    "    data = go.Scatterpolar(\n",
    "      r = value,\n",
    "      theta = [\t\"recency\",\t\"frequency\",\t\"monetary_value\"],\n",
    "      fill = 'toself'\n",
    "    )\n",
    "    py.iplot([data])\n"
   ]
  },
  {
   "cell_type": "code",
   "execution_count": null,
   "metadata": {},
   "outputs": [],
   "source": []
  }
 ],
 "metadata": {
  "kernelspec": {
   "display_name": "Python 3",
   "language": "python",
   "name": "python3"
  },
  "language_info": {
   "codemirror_mode": {
    "name": "ipython",
    "version": 3
   },
   "file_extension": ".py",
   "mimetype": "text/x-python",
   "name": "python",
   "nbconvert_exporter": "python",
   "pygments_lexer": "ipython3",
   "version": "3.6.3"
  }
 },
 "nbformat": 4,
 "nbformat_minor": 2
}
